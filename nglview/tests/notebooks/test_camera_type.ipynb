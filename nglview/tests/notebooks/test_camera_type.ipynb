{
 "cells": [
  {
   "cell_type": "code",
   "execution_count": 8,
   "metadata": {
    "collapsed": true
   },
   "outputs": [],
   "source": [
    "import nglview as nv\n",
    "import pytraj as pt"
   ]
  },
  {
   "cell_type": "code",
   "execution_count": 25,
   "metadata": {
    "collapsed": false
   },
   "outputs": [],
   "source": [
    "view = nv.show_pytraj(pt.load(nv.datafiles.TRR, nv.datafiles.PDB))\n",
    "view"
   ]
  },
  {
   "cell_type": "code",
   "execution_count": 28,
   "metadata": {
    "collapsed": true
   },
   "outputs": [],
   "source": [
    "camera_type = 'orthographic'\n",
    "#camera_type = 'perspective'\n",
    "view.parameters = dict(cameraType=camera_type, backgroundColor='white')"
   ]
  },
  {
   "cell_type": "code",
   "execution_count": 29,
   "metadata": {
    "collapsed": false
   },
   "outputs": [
    {
     "data": {
      "text/plain": [
       "'{\"metadata\":{\"version\":4.4,\"type\":\"Object\",\"generator\":\"Object3D.toJSON\"},\"object\":{\"uuid\":\"A0A9AA1D-4264-458E-851E-1874AA9AD28D\",\"type\":\"OrthographicCamera\",\"matrix\":[0.12070814520120621,-0.24161793291568756,-0.9628345370292664,0,0.6420854926109314,0.758715033531189,-0.109898641705513,0,0.7570705413818359,-0.6049563884735107,0.24672244489192963,0,30.13068389892578,-24.076684951782227,9.819318771362305,1],\"zoom\":8.701807119483085,\"left\":-498.6953125,\"right\":498.6953125,\"top\":150,\"bottom\":-150,\"near\":10,\"far\":89.85964778304947}}'"
      ]
     },
     "execution_count": 29,
     "metadata": {},
     "output_type": "execute_result"
    }
   ],
   "source": [
    "view.camera_str"
   ]
  }
 ],
 "metadata": {
  "kernelspec": {
   "display_name": "Python 3",
   "language": "python",
   "name": "python3"
  },
  "language_info": {
   "codemirror_mode": {
    "name": "ipython",
    "version": 3
   },
   "file_extension": ".py",
   "mimetype": "text/x-python",
   "name": "python",
   "nbconvert_exporter": "python",
   "pygments_lexer": "ipython3",
   "version": "3.5.1"
  }
 },
 "nbformat": 4,
 "nbformat_minor": 0
}
